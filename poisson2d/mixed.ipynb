{
 "cells": [
  {
   "cell_type": "markdown",
   "metadata": {},
   "source": [
    "# 2.5 Mixed formulation for second order equations\n",
    "\n",
    "Motivation:\n",
    "* exact flux conservation\n",
    "* useful for a posteriori error estimates\n",
    "* model problem for $4^{th}$ order problems, Stokes, ...\n",
    "\n",
    "\n",
    "We consider the diffusion equation\n",
    "$$\n",
    "\\DeclareMathOperator{\\Div}{div}\n",
    "\\begin{array}{rcll}\n",
    "-\\Div \\lambda \\nabla u & = & f & \\text{ in } \\Omega \\\\\n",
    "u & = & u_D & \\text{ on } \\Gamma_D \\\\\n",
    "\\lambda \\frac{\\partial u}{\\partial n} & = & g & \\text{ on } \\Gamma_N\n",
    "\\end{array}\n",
    "$$\n",
    "\n",
    "### Primal variational formulation\n",
    "\n",
    "Find $u \\in H^1,  u = u_D$ on $\\Gamma_D$ such that\n",
    "\n",
    "$$\n",
    "\\int_\\Omega \\lambda \\nabla u \\nabla v = \\int_\\Omega f v + \\int_{\\Gamma_N} g v\n",
    "\\quad \\forall v \\in H^1, v = 0 \\text{ on } \\Gamma_D\n",
    "$$\n",
    "\n",
    "### First order system\n",
    "\n",
    "Find scalar $u$ and the flux $\\sigma$ such that\n",
    "\n",
    "$$\n",
    "\\lambda^{-1} \\sigma = \\nabla u, \\quad \\Div \\sigma = -f\n",
    "$$\n",
    "\n",
    "with boundary conditions\n",
    "\n",
    "$$\n",
    "\\sigma \\cdot n = g \\text{ on } \\Gamma_N, \\quad \\text{ and } \\quad\n",
    "u = u_D \\text{ on } \\Gamma_D \n",
    "$$\n",
    "\n",
    "\n",
    "### Mixed variational formulation\n",
    "\n",
    "Find $\\sigma \\in H(\\Div)$ and $u \\in L_2$ such that $\\sigma_n = g$ on $\\Gamma_N$ and\n",
    "\n",
    "\\begin{eqnarray*}\n",
    "\\int_\\Omega \\lambda^{-1} \\sigma \\tau + \\int_\\Omega \\Div \\tau u & = & 0 \\\\\n",
    "\\int_\\Omega \\Div \\sigma v  & = &  -\\int_\\Omega f v + \\int_{\\Gamma_D} u_D \\tau_n\n",
    "\\end{eqnarray*}\n",
    "\n",
    "for all test-functions $\\tau \\in H(\\Div)$ and $v \\in L_2$ with $\\tau_n = 0$.\n",
    "\n",
    "Here $\\sigma_n$ is the normal trace operator $\\sigma \\cdot n |_{\\Gamma_N}$, which is meaningful in $H(\\Div)$.\n",
    "\n",
    "\n",
    "A Compact notation is the single-liner \n",
    "\n",
    "Find $(\\sigma, u) \\in H(\\Div) \\times L_2$ such that $\\sigma_n = g$ on $\\Gamma_N$ and\n",
    "\n",
    "$$\n",
    "\\int_\\Omega \\lambda^{-1} \\sigma \\tau + \\Div \\sigma v + \\Div \\tau u = \n",
    "-\\int_\\Omega f v + \\int_{\\Gamma_D} u_D \\tau_n\n",
    "$$\n",
    "\n",
    "for all test-functions $(\\tau, v) \\in H(\\Div) \\times L_2$ with $\\tau_n = 0$.\n"
   ]
  },
  {
   "cell_type": "code",
   "execution_count": 1,
   "metadata": {},
   "outputs": [
    {
     "name": "stdout",
     "output_type": "stream",
     "text": [
      "optfile ./ng.opt does not exist - using default values\n",
      "togl-version : 2\n",
      "OCC module loaded\n",
      "loading ngsolve library\n",
      "NGSolve-6.2.2305\n",
      "Using Lapack\n",
      "Including sparse direct solver UMFPACK\n",
      "Running parallel using 8 thread(s)\n",
      " Generate Mesh from spline geometry\n"
     ]
    }
   ],
   "source": [
    "from ngsolve import *\n",
    "from netgen.geom2d import unit_square\n",
    "import netgen.gui\n",
    "%gui tk\n",
    "\n",
    "mesh = Mesh(unit_square.GenerateMesh(maxh=0.1))"
   ]
  },
  {
   "cell_type": "code",
   "execution_count": 2,
   "metadata": {},
   "outputs": [],
   "source": [
    "source = sin(3.14*x)\n",
    "ud = CF(5)\n",
    "g = mesh.BoundaryCF( {\"left\" : y*(1-y)}, default=0)\n",
    "lam = 10"
   ]
  },
  {
   "cell_type": "code",
   "execution_count": 24,
   "metadata": {},
   "outputs": [
    {
     "name": "stdout",
     "output_type": "stream",
     "text": [
      "Help on method BoundaryCF in module ngsolve.comp:\n",
      "\n",
      "BoundaryCF(...) method of ngsolve.comp.Mesh instance\n",
      "    BoundaryCF(self: ngsolve.comp.Mesh, values: dict, default: ngsolve.fem.CoefficientFunction = None) -> ngsolve.fem.CoefficientFunction\n",
      "    \n",
      "    Boundary wise CoefficientFunction.\n",
      "    First argument is a dict from either boundary names or Region objects to\n",
      "    CoefficientFunction (-values). Later given names/regions override earlier\n",
      "    values. Optional last argument (default) is the value for not given boundaries.\n",
      "    >>> penalty = mesh.BoundaryCF({ \"top\" : 1e6 }, default=0)\n",
      "    will create a CF being 1e6 on the top boundary and 0. elsewhere.\n",
      "\n"
     ]
    }
   ],
   "source": [
    "help(mesh.BoundaryCF)"
   ]
  },
  {
   "cell_type": "markdown",
   "metadata": {},
   "source": [
    "Setup and solve primal problem:"
   ]
  },
  {
   "cell_type": "code",
   "execution_count": 30,
   "metadata": {},
   "outputs": [
    {
     "name": "stdout",
     "output_type": "stream",
     "text": [
      " Generate Mesh from spline geometry\n"
     ]
    }
   ],
   "source": [
    "mesh = Mesh(unit_square.GenerateMesh(maxh=0.05))\n",
    "fesp = H1(mesh, order=5, dirichlet=\"bottom\")\n",
    "up, vp = fesp.TnT()\n",
    "\n",
    "ap = BilinearForm(lam*grad(up)*grad(vp)*dx).Assemble()\n",
    "fp = LinearForm(source*vp*dx + g*vp * ds).Assemble()\n",
    "\n",
    "gfup = GridFunction(fesp)\n",
    "gfup.Set(ud, BND)\n",
    "\n",
    "r = fp.vec - ap.mat * gfup.vec\n",
    "gfup.vec.data += ap.mat.Inverse(freedofs=fesp.FreeDofs()) * r\n",
    "Draw (gfup)\n",
    "Draw (lam * grad(gfup), mesh, \"flux-primal\")\n",
    "exact = gfup\n",
    "grad_exact = grad(exact)"
   ]
  },
  {
   "cell_type": "code",
   "execution_count": 29,
   "metadata": {},
   "outputs": [
    {
     "ename": "AttributeError",
     "evalue": "'ngsolve.fem.CoefficientFunction' object has no attribute 'vec'",
     "output_type": "error",
     "traceback": [
      "\u001b[0;31m---------------------------------------------------------------------------\u001b[0m",
      "\u001b[0;31mAttributeError\u001b[0m                            Traceback (most recent call last)",
      "\u001b[0;32m/tmp/ipykernel_137274/2142387399.py\u001b[0m in \u001b[0;36m<module>\u001b[0;34m\u001b[0m\n\u001b[0;32m----> 1\u001b[0;31m \u001b[0mprint\u001b[0m\u001b[0;34m(\u001b[0m\u001b[0mgrad_exact\u001b[0m\u001b[0;34m[\u001b[0m\u001b[0;36m0\u001b[0m\u001b[0;34m]\u001b[0m\u001b[0;34m.\u001b[0m\u001b[0mvec\u001b[0m\u001b[0;34m)\u001b[0m\u001b[0;34m\u001b[0m\u001b[0;34m\u001b[0m\u001b[0m\n\u001b[0m",
      "\u001b[0;31mAttributeError\u001b[0m: 'ngsolve.fem.CoefficientFunction' object has no attribute 'vec'"
     ]
    }
   ],
   "source": []
  },
  {
   "cell_type": "code",
   "execution_count": 34,
   "metadata": {},
   "outputs": [
    {
     "name": "stdout",
     "output_type": "stream",
     "text": [
      " Generate Mesh from spline geometry\n",
      "h =  0.5 L2-error: 0.004789109639791698 grad-error: 0.01963820993956928\n",
      " Generate Mesh from spline geometry\n",
      "h =  0.25 L2-error: 0.00047243639292102727 grad-error: 0.006488385652396256\n",
      " Generate Mesh from spline geometry\n",
      "h =  0.125 L2-error: 0.00011849539145395955 grad-error: 0.0033372029501114804\n",
      " Generate Mesh from spline geometry\n",
      "h =  0.0625 L2-error: 2.5192650282231653e-05 grad-error: 0.0015591336363925514\n",
      " Generate Mesh from spline geometry\n",
      "h =  0.03125 L2-error: 6.2992634229284545e-06 grad-error: 0.0007812040591427369\n",
      " Generate Mesh from spline geometry\n",
      "h =  0.015625 L2-error: 1.5600753011396723e-06 grad-error: 0.00038892865429252963\n"
     ]
    }
   ],
   "source": [
    "mesh_size = [0.5, 0.25, 0.125, 0.0625, 0.03125, 0.015625]\n",
    "order = 2\n",
    "dofs = []\n",
    "errors = []\n",
    "grad_errors = []\n",
    "\n",
    "\n",
    "for h in mesh_size:\n",
    "    mesh = Mesh(unit_square.GenerateMesh(maxh=h))\n",
    "    fesp = H1(mesh, order=1, dirichlet=\"bottom\")\n",
    "    up, vp = fesp.TnT()\n",
    "\n",
    "    ap = BilinearForm(lam*grad(up)*grad(vp)*dx).Assemble()\n",
    "    fp = LinearForm(source*vp*dx + g*vp * ds).Assemble()\n",
    "\n",
    "    gfup = GridFunction(fesp)\n",
    "    gfup.Set(ud, BND)\n",
    "\n",
    "    r = fp.vec - ap.mat * gfup.vec\n",
    "    gfup.vec.data += ap.mat.Inverse(freedofs=fesp.FreeDofs()) * r\n",
    "    # Draw (gfup)\n",
    "    # Draw (lam * grad(gfup), mesh, \"flux-primal\")\n",
    "\n",
    "    # Compute error\n",
    "    grad_gfup = grad(gfup)\n",
    " \n",
    "    # Compute error\n",
    "    err = sqrt (Integrate ( (gfup-exact)*(gfup-exact), mesh))\n",
    "    grad_err = sqrt (Integrate ( (grad_gfup-grad_exact)*(grad_gfup-grad_exact), mesh))\n",
    "    print (\"h = \", h, \"L2-error:\", err, \"grad-error:\", grad_err)\n",
    "\n",
    "    errors.append(err)\n",
    "    grad_errors.append(grad_err)\n",
    "\n"
   ]
  },
  {
   "cell_type": "code",
   "execution_count": 32,
   "metadata": {},
   "outputs": [],
   "source": [
    "import numpy as np"
   ]
  },
  {
   "cell_type": "code",
   "execution_count": 35,
   "metadata": {},
   "outputs": [
    {
     "name": "stdout",
     "output_type": "stream",
     "text": [
      "Convergence rate: 3.3415654559583383\n",
      "Convergence rate for grad errors: 1.5977319540561878\n",
      "Convergence rate: 1.9952891526776657\n",
      "Convergence rate for grad errors: 0.959220146190252\n",
      "Convergence rate: 2.23375614306561\n",
      "Convergence rate for grad errors: 1.0978948363235137\n",
      "Convergence rate: 1.999747854163129\n",
      "Convergence rate for grad errors: 0.9969732389361131\n",
      "Convergence rate: 2.0135674769410072\n",
      "Convergence rate for grad errors: 1.0061939163513178\n"
     ]
    }
   ],
   "source": [
    "for i in range(len(mesh_size)-1):\n",
    "    conv_rate = np.log(errors[i+1]/errors[i])/np.log(mesh_size[i+1]/mesh_size[i])\n",
    "    print(\"Convergence rate:\", conv_rate)\n",
    "    print(\"Convergence rate for grad errors:\", np.log(grad_errors[i+1]/grad_errors[i])/np.log(mesh_size[i+1]/mesh_size[i]))"
   ]
  },
  {
   "cell_type": "markdown",
   "metadata": {},
   "source": [
    "## Solving the mixed problem\n",
    "Define spaces for mixed problem. Note that essential boundary conditions  are set to the $H(\\Div)$-component on the opposite boundary. Creating a space from a list of spaces generates a product space:"
   ]
  },
  {
   "cell_type": "markdown",
   "metadata": {},
   "source": []
  },
  {
   "cell_type": "code",
   "execution_count": 14,
   "metadata": {},
   "outputs": [],
   "source": [
    "order_flux=1\n",
    "V = HDiv(mesh, order=order_flux, dirichlet=\"right|top|left\")\n",
    "Q = L2(mesh, order=order_flux-1)\n",
    "fesm = V*Q"
   ]
  },
  {
   "cell_type": "markdown",
   "metadata": {},
   "source": [
    "The space provides now a list of trial and test-functions:"
   ]
  },
  {
   "cell_type": "code",
   "execution_count": 15,
   "metadata": {},
   "outputs": [],
   "source": [
    "sigma, u = fesm.TrialFunction()\n",
    "tau, v = fesm.TestFunction()"
   ]
  },
  {
   "cell_type": "markdown",
   "metadata": {},
   "source": [
    "The normal vector is provided as a *special* coefficient function (which may be used only at the boundary). The orientation depends on the definition of the geometry. In 2D, it is the tangential vector rotated to the right, and is the outer vector in our case. Since every CoefficientFunction must know its vector-dimension, we have to provide the spatial dimension:"
   ]
  },
  {
   "cell_type": "code",
   "execution_count": 16,
   "metadata": {},
   "outputs": [
    {
     "name": "stdout",
     "output_type": "stream",
     "text": [
      "coef normal vector, real, dim=2\n",
      "\n"
     ]
    }
   ],
   "source": [
    "normal = specialcf.normal(mesh.dim)\n",
    "print (normal)"
   ]
  },
  {
   "cell_type": "markdown",
   "metadata": {},
   "source": [
    "Define the forms on the product space. For the boundary term, we have to use the Trace operator, which provides the projection to normal direction. "
   ]
  },
  {
   "cell_type": "code",
   "execution_count": 17,
   "metadata": {},
   "outputs": [],
   "source": [
    "am = BilinearForm((1/lam*sigma*tau + div(sigma)*v + div(tau)*u)*dx).Assemble()\n",
    "fm = LinearForm(-source*v*dx + ud*(tau.Trace()*normal)*ds).Assemble()\n",
    "\n",
    "gfm = GridFunction(fesm)"
   ]
  },
  {
   "cell_type": "markdown",
   "metadata": {},
   "source": [
    "The proxy-functions used for the forms know to which component of the product space they belong to. To access components of the solution, we have to unpack its components. They don't have own coefficient vectors, but refer to ranges of the big coefficient vector."
   ]
  },
  {
   "cell_type": "code",
   "execution_count": 18,
   "metadata": {},
   "outputs": [],
   "source": [
    "gfsigma, gfu = gfm.components"
   ]
  },
  {
   "cell_type": "markdown",
   "metadata": {},
   "source": [
    "Just to try something:"
   ]
  },
  {
   "cell_type": "code",
   "execution_count": 19,
   "metadata": {},
   "outputs": [],
   "source": [
    "gfsigma.Set(CF( (sin(10*x), sin(10*y)) ))\n",
    "gfu.Set (x)\n",
    "Draw (gfsigma, mesh, \"flux-mixed\")\n",
    "Draw (gfu, mesh, \"u-mixed\");"
   ]
  },
  {
   "cell_type": "markdown",
   "metadata": {},
   "source": [
    "Now set the essential boundary conditions for the flux part:"
   ]
  },
  {
   "cell_type": "code",
   "execution_count": 20,
   "metadata": {},
   "outputs": [],
   "source": [
    "gfsigma.Set(g*normal, BND)"
   ]
  },
  {
   "cell_type": "code",
   "execution_count": 21,
   "metadata": {},
   "outputs": [],
   "source": [
    "res = fm.vec.data - am.mat * gfm.vec\n",
    "gfm.vec.data += am.mat.Inverse(freedofs=fesm.FreeDofs(), inverse=\"umfpack\") * res\n",
    "# solvers.BVP(bf=am, lf=fm, gf=gfm)\n",
    "Draw (gfsigma, mesh, \"flux-mixed\")\n",
    "Draw (gfu, mesh, \"u-mixed\");"
   ]
  },
  {
   "cell_type": "markdown",
   "metadata": {},
   "source": [
    "Calculate the difference:"
   ]
  },
  {
   "cell_type": "code",
   "execution_count": 22,
   "metadata": {},
   "outputs": [
    {
     "name": "stdout",
     "output_type": "stream",
     "text": [
      "err-u:    0.0010223748524829696\n",
      "err-flux: 0.025306530356341964\n"
     ]
    }
   ],
   "source": [
    "print (\"err-u:   \", sqrt(Integrate( (gfup-gfu)**2, mesh)))\n",
    "errflux = lam * grad(gfup) - gfsigma\n",
    "print (\"err-flux:\", sqrt(Integrate(errflux*errflux, mesh)))"
   ]
  },
  {
   "cell_type": "markdown",
   "metadata": {},
   "source": [
    "## Post-processing for the scalar variable\n",
    "\n",
    "The scalar variable is approximated one order lower than the vector variable, what is its gradient. Knowing the gradient of a function more accurate, and knowing its mean value, one can recover the function itself. For this post-processing trick we refer to [Arnold+Brezzi 85]\n",
    "\n",
    "\n",
    "find $\\widehat u \\in P^{k+1, dc}$ and $\\widehat \\lambda \\in P^{0, dc}$ such that\n",
    "\n",
    "$$\n",
    "\\begin{array}{ccccl}\n",
    "\\int \\lambda \\nabla \\widehat u \\nabla \\widehat v & + & \\int \\widehat \\lambda \\widehat v & = & \\int \\sigma \\nabla \\widehat v & \\forall \\, \\widehat v\\\\\n",
    "\\int \\widehat u \\widehat \\mu & & & = & \\int u \\widehat \\mu & \\forall \\, \\widehat \\mu\n",
    "\\end{array}\n",
    "$$"
   ]
  },
  {
   "cell_type": "code",
   "execution_count": 23,
   "metadata": {},
   "outputs": [
    {
     "name": "stdout",
     "output_type": "stream",
     "text": [
      "err-upost:    6.650960109439488e-05\n"
     ]
    }
   ],
   "source": [
    "fespost_u = L2(mesh, order=order_flux+1)\n",
    "fespost_lam = L2(mesh, order=0)\n",
    "fes_post = fespost_u*fespost_lam\n",
    "\n",
    "(u,la),(v,mu) = fes_post.TnT()\n",
    "\n",
    "a = BilinearForm( (lam*grad(u)*grad(v)+la*v+mu*u)*dx).Assemble()\n",
    "f = LinearForm((gfsigma*grad(v)+gfu*mu)*dx).Assemble()\n",
    "\n",
    "gfpost = GridFunction(fes_post)\n",
    "gfpost.vec.data = a.mat.Inverse() * f.vec\n",
    "\n",
    "Draw (gfpost.components[0], mesh, \"upost\")\n",
    "print (\"err-upost:   \", sqrt(Integrate( (gfup-gfpost.components[0])**2, mesh)))"
   ]
  },
  {
   "cell_type": "code",
   "execution_count": null,
   "metadata": {},
   "outputs": [],
   "source": []
  },
  {
   "cell_type": "code",
   "execution_count": null,
   "metadata": {},
   "outputs": [],
   "source": []
  }
 ],
 "metadata": {
  "kernelspec": {
   "display_name": "Python 3 (ipykernel)",
   "language": "python",
   "name": "python3"
  },
  "language_info": {
   "codemirror_mode": {
    "name": "ipython",
    "version": 3
   },
   "file_extension": ".py",
   "mimetype": "text/x-python",
   "name": "python",
   "nbconvert_exporter": "python",
   "pygments_lexer": "ipython3",
   "version": "3.10.12"
  }
 },
 "nbformat": 4,
 "nbformat_minor": 2
}
