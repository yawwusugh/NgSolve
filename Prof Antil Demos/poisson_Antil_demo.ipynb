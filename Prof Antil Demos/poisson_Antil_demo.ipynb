{
 "cells": [
  {
   "cell_type": "markdown",
   "metadata": {},
   "source": [
    "Poisson Equation\n",
    "==="
   ]
  },
  {
   "cell_type": "markdown",
   "metadata": {},
   "source": [
    "Import Netgen/NGSolve Python modules:"
   ]
  },
  {
   "cell_type": "code",
   "execution_count": 5,
   "metadata": {},
   "outputs": [],
   "source": [
    "import numpy as np\n",
    "import matplotlib.pyplot as plt\n",
    "from ngsolve import *\n",
    "from netgen.geom2d import unit_square\n",
    "import netgen.gui\n",
    "%gui tk"
   ]
  },
  {
   "cell_type": "code",
   "execution_count": 10,
   "metadata": {},
   "outputs": [
    {
     "data": {
      "text/plain": [
       "<ngsolve.comp.H1 at 0x7f325ff6d170>"
      ]
     },
     "execution_count": 10,
     "metadata": {},
     "output_type": "execute_result"
    },
    {
     "name": "stdout",
     "output_type": "stream",
     "text": [
      "Thank you for using NGSolve\n"
     ]
    }
   ],
   "source": [
    "fes"
   ]
  },
  {
   "cell_type": "code",
   "execution_count": 1,
   "metadata": {},
   "outputs": [
    {
     "ename": "NameError",
     "evalue": "name 'x' is not defined",
     "output_type": "error",
     "traceback": [
      "\u001b[0;31m---------------------------------------------------------------------------\u001b[0m",
      "\u001b[0;31mNameError\u001b[0m                                 Traceback (most recent call last)",
      "\u001b[0;32m/tmp/ipykernel_124651/1364202660.py\u001b[0m in \u001b[0;36m<module>\u001b[0;34m\u001b[0m\n\u001b[0;32m----> 1\u001b[0;31m \u001b[0mexact\u001b[0m \u001b[0;34m=\u001b[0m \u001b[0;36m16\u001b[0m\u001b[0;34m*\u001b[0m\u001b[0mx\u001b[0m\u001b[0;34m*\u001b[0m\u001b[0;34m(\u001b[0m\u001b[0;36m1\u001b[0m\u001b[0;34m-\u001b[0m\u001b[0mx\u001b[0m\u001b[0;34m)\u001b[0m\u001b[0;34m*\u001b[0m\u001b[0my\u001b[0m\u001b[0;34m*\u001b[0m\u001b[0;34m(\u001b[0m\u001b[0;36m1\u001b[0m\u001b[0;34m-\u001b[0m\u001b[0my\u001b[0m\u001b[0;34m)\u001b[0m\u001b[0;34m\u001b[0m\u001b[0;34m\u001b[0m\u001b[0m\n\u001b[0m\u001b[1;32m      2\u001b[0m \u001b[0mgrad_exact\u001b[0m \u001b[0;34m=\u001b[0m \u001b[0mCoefficientFunction\u001b[0m\u001b[0;34m(\u001b[0m \u001b[0;34m(\u001b[0m\u001b[0;36m16\u001b[0m\u001b[0;34m*\u001b[0m\u001b[0;34m(\u001b[0m\u001b[0;36m1\u001b[0m\u001b[0;34m-\u001b[0m\u001b[0;36m2\u001b[0m\u001b[0;34m*\u001b[0m\u001b[0mx\u001b[0m\u001b[0;34m)\u001b[0m\u001b[0;34m*\u001b[0m\u001b[0my\u001b[0m\u001b[0;34m*\u001b[0m\u001b[0;34m(\u001b[0m\u001b[0;36m1\u001b[0m\u001b[0;34m-\u001b[0m\u001b[0my\u001b[0m\u001b[0;34m)\u001b[0m\u001b[0;34m,\u001b[0m \u001b[0;36m16\u001b[0m\u001b[0;34m*\u001b[0m\u001b[0mx\u001b[0m\u001b[0;34m*\u001b[0m\u001b[0;34m(\u001b[0m\u001b[0;36m1\u001b[0m\u001b[0;34m-\u001b[0m\u001b[0mx\u001b[0m\u001b[0;34m)\u001b[0m\u001b[0;34m*\u001b[0m\u001b[0;34m(\u001b[0m\u001b[0;36m1\u001b[0m\u001b[0;34m-\u001b[0m\u001b[0;36m2\u001b[0m\u001b[0;34m*\u001b[0m\u001b[0my\u001b[0m\u001b[0;34m)\u001b[0m\u001b[0;34m)\u001b[0m \u001b[0;34m)\u001b[0m\u001b[0;34m\u001b[0m\u001b[0;34m\u001b[0m\u001b[0m\n\u001b[1;32m      3\u001b[0m \u001b[0mmesh_size\u001b[0m \u001b[0;34m=\u001b[0m \u001b[0;34m[\u001b[0m\u001b[0;36m0.5\u001b[0m\u001b[0;34m,\u001b[0m \u001b[0;36m0.25\u001b[0m\u001b[0;34m,\u001b[0m \u001b[0;36m0.125\u001b[0m\u001b[0;34m,\u001b[0m \u001b[0;36m0.0625\u001b[0m\u001b[0;34m,\u001b[0m \u001b[0;36m0.03125\u001b[0m\u001b[0;34m,\u001b[0m \u001b[0;36m0.015625\u001b[0m\u001b[0;34m]\u001b[0m\u001b[0;34m\u001b[0m\u001b[0;34m\u001b[0m\u001b[0m\n\u001b[1;32m      4\u001b[0m \u001b[0mdofs\u001b[0m \u001b[0;34m=\u001b[0m \u001b[0;34m[\u001b[0m\u001b[0;34m]\u001b[0m\u001b[0;34m\u001b[0m\u001b[0;34m\u001b[0m\u001b[0m\n\u001b[1;32m      5\u001b[0m \u001b[0merrors\u001b[0m \u001b[0;34m=\u001b[0m \u001b[0;34m[\u001b[0m\u001b[0;34m]\u001b[0m\u001b[0;34m\u001b[0m\u001b[0;34m\u001b[0m\u001b[0m\n",
      "\u001b[0;31mNameError\u001b[0m: name 'x' is not defined"
     ]
    }
   ],
   "source": [
    "exact = 16*x*(1-x)*y*(1-y)\n",
    "grad_exact = CoefficientFunction( (16*(1-2*x)*y*(1-y), 16*x*(1-x)*(1-2*y)) )\n",
    "mesh_size = [0.5, 0.25, 0.125, 0.0625, 0.03125, 0.015625]\n",
    "dofs = []\n",
    "errors = []\n",
    "grad_errors = []\n",
    "\n",
    "\n",
    "for h in mesh_size:\n",
    "    # Generate mesh for different h for unit_square\n",
    "    mesh = Mesh(unit_square.GenerateMesh(maxh=h))\n",
    "\n",
    "    # Define Finite Element Space\n",
    "    fes = H1(mesh, order=1, dirichlet=\"bottom|right|top|left\")\n",
    "    print (\"ndof =\", fes.ndof)\n",
    "    dofs.append(fes.ndof)\n",
    "\n",
    "    # Declare test, trial and grid functions\n",
    "    u, v = fes.TnT()\n",
    "    gfu = GridFunction(fes)\n",
    "\n",
    "    # Define and assemble forms\n",
    "    f = LinearForm(fes)\n",
    "    f += 32 * (y*(1-y)+x*(1-x)) * v * dx\n",
    "\n",
    "    a = BilinearForm(fes)\n",
    "    a += grad(u)*grad(v)*dx\n",
    "\n",
    "    a.Assemble()\n",
    "    f.Assemble()\n",
    "\n",
    "    # Solve the linear system\n",
    "    gfu = GridFunction(fes)\n",
    "\n",
    "\n",
    "    gfu.vec.data = a.mat.Inverse(fes.FreeDofs()) * f.vec\n",
    "    grad_gfu = grad(gfu)\n",
    "\n",
    "    # Compute error\n",
    "    err = sqrt (Integrate ( (gfu-exact)*(gfu-exact), mesh))\n",
    "    grad_err = sqrt (Integrate ( (grad_gfu-grad_exact)*(grad_gfu-grad_exact), mesh))\n",
    "    print (\"h = \", h, \"L2-error:\", err, \"grad-error:\", grad_err)\n",
    "\n",
    "    errors.append(err)\n",
    "    grad_errors.append(grad_err)\n",
    "\n",
    "    "
   ]
  },
  {
   "cell_type": "code",
   "execution_count": 18,
   "metadata": {},
   "outputs": [
    {
     "name": "stdout",
     "output_type": "stream",
     "text": [
      "0: 11111111\n",
      "0: 00000000\n"
     ]
    }
   ],
   "source": [
    "fesN = H1(mesh, order=1)\n",
    "fesD = H1(mesh, order=1, dirichlet=\".*\")\n",
    "print(fesN.FreeDofs())\n",
    "print(fesD.FreeDofs())\n",
    "a.mat.Inverse(fes.FreeDofs())"
   ]
  },
  {
   "cell_type": "code",
   "execution_count": 4,
   "metadata": {},
   "outputs": [
    {
     "name": "stdout",
     "output_type": "stream",
     "text": [
      "Convergence rate: 2.7913336465407137\n",
      "Convergence rate for grad errors: 1.4568417263746494\n",
      "Convergence rate: 2.294955903852603\n",
      "Convergence rate for grad errors: 1.1436335219459532\n",
      "Convergence rate: 2.3030038540149285\n",
      "Convergence rate for grad errors: 1.1423750749082162\n",
      "Convergence rate: 2.0276775936937663\n",
      "Convergence rate for grad errors: 1.005276948664073\n"
     ]
    }
   ],
   "source": [
    "for i in range(len(mesh_size)-1):\n",
    "    print(\"Convergence rate:\", np.log(errors[i+1]/errors[i])/np.log(mesh_size[i+1]/mesh_size[i]))\n",
    "    print(\"Convergence rate for grad errors:\", np.log(grad_errors[i+1]/grad_errors[i])/np.log(mesh_size[i+1]/mesh_size[i]))"
   ]
  },
  {
   "cell_type": "markdown",
   "metadata": {},
   "source": [
    "## Plot Error"
   ]
  },
  {
   "cell_type": "code",
   "execution_count": 11,
   "metadata": {},
   "outputs": [
    {
     "name": "stdout",
     "output_type": "stream",
     "text": [
      "gridfunction 'gfu' on space 'H1HighOrderFESpace(h1ho)'\n",
      "nested = 1\n",
      "autoupdate = 0\n",
      "\n"
     ]
    }
   ],
   "source": [
    "print(gfu)"
   ]
  },
  {
   "cell_type": "code",
   "execution_count": 6,
   "metadata": {},
   "outputs": [
    {
     "data": {
      "text/plain": [
       "<Figure size 432x288 with 0 Axes>"
      ]
     },
     "execution_count": 6,
     "metadata": {},
     "output_type": "execute_result"
    },
    {
     "data": {
      "text/plain": [
       "<Figure size 432x288 with 0 Axes>"
      ]
     },
     "metadata": {},
     "output_type": "display_data"
    }
   ],
   "source": []
  },
  {
   "cell_type": "code",
   "execution_count": 15,
   "metadata": {},
   "outputs": [
    {
     "data": {
      "text/plain": [
       "([8, 26, 86, 337, 1245, 4877],\n",
       " array([0.125     , 0.03846154, 0.01162791, 0.00296736, 0.00080321,\n",
       "        0.00020504]))"
      ]
     },
     "execution_count": 15,
     "metadata": {},
     "output_type": "execute_result"
    }
   ],
   "source": [
    "dofs, np.divide(np.ones(len(dofs)), np.array(dofs))"
   ]
  },
  {
   "cell_type": "code",
   "execution_count": 1,
   "metadata": {},
   "outputs": [
    {
     "data": {
      "text/plain": [
       "[4.0, 16.0, 64.0, 256.0, 1024.0, 4096.0]"
      ]
     },
     "execution_count": 1,
     "metadata": {},
     "output_type": "execute_result"
    }
   ],
   "source": [
    "mesh_size = [0.5, 0.25, 0.125, 0.0625, 0.03125, 0.015625]\n",
    "adofs = [1/h**2 for h in mesh_size]\n",
    "adofs"
   ]
  },
  {
   "cell_type": "code",
   "execution_count": 13,
   "metadata": {},
   "outputs": [
    {
     "data": {
      "image/png": "[encoded data removed]",
      "text/plain": [
       "<Figure size 432x288 with 1 Axes>"
      ]
     },
     "metadata": {
      "needs_background": "light"
     },
     "output_type": "display_data"
    }
   ],
   "source": [
    "\n",
    "plt.loglog(dofs, np.divide(np.ones(len(dofs)), np.array(dofs)), label=\"Reference Line\")\n",
    "plt.loglog(dofs,errors, \"-o\", label=\"L2 Error\")\n",
    "plt.title(\"Error Estimation Plot\")\n",
    "plt.xlabel(\"Mesh Size\")\n",
    "plt.ylabel(\"L2 Error\")\n",
    "plt.legend()\n",
    "plt.show()"
   ]
  },
  {
   "cell_type": "code",
   "execution_count": 3,
   "metadata": {},
   "outputs": [],
   "source": [
    "Draw(exact, mesh, \"exact\")"
   ]
  },
  {
   "cell_type": "code",
   "execution_count": 5,
   "metadata": {},
   "outputs": [],
   "source": [
    "Draw(gfu, mesh, \"gfu\")"
   ]
  }
 ],
 "metadata": {
  "kernelspec": {
   "display_name": "Python 3",
   "language": "python",
   "name": "python3"
  },
  "language_info": {
   "codemirror_mode": {
    "name": "ipython",
    "version": 3
   },
   "file_extension": ".py",
   "mimetype": "text/x-python",
   "name": "python",
   "nbconvert_exporter": "python",
   "pygments_lexer": "ipython3",
   "version": "3.10.12"
  }
 },
 "nbformat": 4,
 "nbformat_minor": 2
}
