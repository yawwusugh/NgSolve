{
 "cells": [
  {
   "cell_type": "markdown",
   "metadata": {},
   "source": [
    "Poisson Equation With Neumann Boundary Conditions\n",
    "==="
   ]
  },
  {
   "cell_type": "markdown",
   "metadata": {},
   "source": [
    "Import Netgen/NGSolve Python modules:"
   ]
  },
  {
   "cell_type": "code",
   "execution_count": 1,
   "metadata": {},
   "outputs": [
    {
     "name": "stdout",
     "output_type": "stream",
     "text": [
      "optfile ./ng.opt does not exist - using default values\n",
      "togl-version : 2\n",
      "OCC module loaded\n",
      "loading ngsolve library\n",
      "NGSolve-6.2.2305\n",
      "Using Lapack\n",
      "Including sparse direct solver UMFPACK\n",
      "Running parallel using 8 thread(s)\n"
     ]
    },
    {
     "name": "stdout",
     "output_type": "stream",
     "text": [
      "Thank you for using NGSolve\n"
     ]
    }
   ],
   "source": [
    "import numpy as np\n",
    "import matplotlib.pyplot as plt\n",
    "from ngsolve import *\n",
    "from netgen.geom2d import unit_square\n",
    "import netgen.gui\n",
    "%gui tk"
   ]
  },
  {
   "cell_type": "markdown",
   "metadata": {},
   "source": [
    "# Problem"
   ]
  },
  {
   "cell_type": "markdown",
   "metadata": {},
   "source": [
    "$$ \\Omega = (0,1)^2 $$"
   ]
  },
  {
   "cell_type": "code",
   "execution_count": null,
   "metadata": {},
   "outputs": [],
   "source": [
    "ud = CoefficientFunction(0)\n",
    "f = CoefficientFunction(10*exp(-50*((x-0.5)*(x-0.5)+(y-0.5)*(y-0.5))))\n",
    "g = CoefficientFunction(sin(5*x))\n",
    "alpha = 5\n",
    "\n",
    "order = 5\n",
    "size = 0.01\n",
    "mesh = Mesh(unit_square.GenerateMesh(maxh=size))\n"
   ]
  },
  {
   "cell_type": "code",
   "execution_count": null,
   "metadata": {},
   "outputs": [],
   "source": [
    "h"
   ]
  },
  {
   "cell_type": "code",
   "execution_count": null,
   "metadata": {},
   "outputs": [],
   "source": [
    "V = HDiv(mesh, order=order, dirichlet=\"top|bottom\")\n",
    "Q = L2(mesh, order=order-1)\n",
    "X = FESpace( [V,Q] )\n",
    "(sigma, u), (tau, v) = X.TnT()\n",
    "\n",
    "A = BilinearForm(X, symmetric=True)\n",
    "A += SymbolicBFI( sigma*tau + div(tau)*u + div(sigma)*v )\n",
    "A.Assemble()\n",
    "\n",
    "normal = specialcf.normal(mesh.dim)\n",
    "F = LinearForm(X)\n",
    "F += SymbolicLFI(-f*v)\n",
    "F += SymbolicLFI(g * v, BND)\n",
    "\n",
    "# f += SymbolicLFI(ud * (tau.Trace()*normal), BND)\n",
    "F.Assemble()\n",
    "\n",
    "gfsol = GridFunction(X)\n",
    "gfsol.vec.data = A.mat.Inverse(X.FreeDofs())*F.vec\n",
    "\n",
    "Draw(gfsol.components[0], mesh, \"sigma\")\n",
    "# Draw(gfsol.components[1], mesh, \"u\")\n",
    "\n",
    "approx_exact = gfsol\n",
    "\n",
    "\n"
   ]
  },
  {
   "cell_type": "code",
   "execution_count": null,
   "metadata": {},
   "outputs": [],
   "source": [
    "print(approx_exact.vec)"
   ]
  },
  {
   "cell_type": "code",
   "execution_count": null,
   "metadata": {},
   "outputs": [],
   "source": [
    "print(approx_exact.vec)"
   ]
  },
  {
   "cell_type": "code",
   "execution_count": null,
   "metadata": {},
   "outputs": [],
   "source": [
    "mesh_size = [0.5, 0.25, 0.125, 0.0625, 0.03125, 0.015625]\n",
    "order = 2\n",
    "dofs = []\n",
    "errors = []\n",
    "grad_errors = []\n",
    "\n",
    "\n",
    "for h in mesh_size:\n",
    "    # Generate mesh for different h for unit_square\n",
    "    mesh = Mesh(unit_square.GenerateMesh(maxh=h))\n",
    "\n",
    "    V = HDiv(mesh, order=order, dirichlet=\"top|bottom\")\n",
    "    Q = L2(mesh, order=order-1)\n",
    "    X = FESpace( [V,Q] )\n",
    "    (sigma, u), (tau, v) = X.TnT()\n",
    "\n",
    "    A = BilinearForm(X, symmetric=True)\n",
    "    A += SymbolicBFI( sigma*tau + div(tau)*u + div(sigma)*v )\n",
    "    A.Assemble()\n",
    "\n",
    "    F = LinearForm(X)\n",
    "    F += SymbolicLFI(-f*v)\n",
    "    F += SymbolicLFI(g * v, BND)\n",
    "    F.Assemble()\n",
    "\n",
    "    gfsol = GridFunction(X)\n",
    "    gfsol.vec.data = A.mat.Inverse(X.FreeDofs())*F.vec\n",
    "\n",
    "    # Compute error\n",
    "    err = sqrt(Integrate((gfsol.components[1]-approx_exact.components[1])**2, mesh))\n",
    "    # err = sqrt(Integrate((gfsol.components[1]-approx_exact.components[1])**2, mesh))\n",
    "    grad_err = sqrt(Integrate((gfsol.components[0]-approx_exact.components[0])**2, mesh))\n",
    "    print(\"diff u    = \", sqrt(Integrate((gfsol.components[1]-approx_exact.components[1])**2, mesh)) )\n",
    "    print(\"diff flux = \", sqrt(Integrate((gfsol.components[0]-approx_exact.components[0])**2, mesh)) )\n",
    "    print (\"h = \", h, \"L2-error:\", err, \"grad-error:\", grad_err)\n",
    "\n",
    "    errors.append(err)\n",
    "    grad_errors.append(grad_err)\n",
    "\n",
    "    "
   ]
  },
  {
   "cell_type": "code",
   "execution_count": null,
   "metadata": {},
   "outputs": [],
   "source": [
    "for i in range(len(mesh_size)-1):\n",
    "    conv_rate = np.log(errors[i+1]/errors[i])/np.log(mesh_size[i+1]/mesh_size[i])\n",
    "    print(\"Convergence rate:\", conv_rate)\n",
    "    print(\"Convergence rate for grad errors:\", np.log(grad_errors[i+1]/grad_errors[i])/np.log(mesh_size[i+1]/mesh_size[i]))"
   ]
  },
  {
   "cell_type": "code",
   "execution_count": null,
   "metadata": {},
   "outputs": [],
   "source": [
    "print(approx_exact.components[0].vec)"
   ]
  },
  {
   "cell_type": "code",
   "execution_count": null,
   "metadata": {},
   "outputs": [],
   "source": []
  },
  {
   "cell_type": "code",
   "execution_count": null,
   "metadata": {},
   "outputs": [],
   "source": [
    "u_xx = CoefficientFunction(2*(y*(1-y))**2*(6*x**2-6*x+1))\n",
    "u_yy = CoefficientFunction(2*(x*(1-x))**2*(6*y**2-6*y+1))\n",
    "exact = CoefficientFunction( (x*(1-x)*y*(1-y))**2 )\n",
    "f2 = -u_xx - u_yy + exact\n",
    "# grad_exact = CoefficientFunction( (2*x*(1-x)*y*(1-y)*(2*y-1), 2*x*(1-x)*y*(1-y)*(2*x-1)) )\n",
    "# grad_exact = exact.Diff(x) , exact.Diff(y)\n"
   ]
  },
  {
   "cell_type": "markdown",
   "metadata": {},
   "source": []
  },
  {
   "cell_type": "code",
   "execution_count": null,
   "metadata": {},
   "outputs": [],
   "source": [
    "2**3"
   ]
  },
  {
   "cell_type": "code",
   "execution_count": null,
   "metadata": {},
   "outputs": [],
   "source": [
    "mesh = Mesh(unit_square.GenerateMesh(maxh=0.1))\n",
    "H = H1(mesh, order=4)\n",
    "u,v = H.TnT()\n",
    "\n",
    "A = BilinearForm(H, symmetric=True)\n",
    "A += SymbolicBFI( grad(u)*grad(v) + u*v )\n",
    "A.Assemble()\n",
    "\n",
    "f = LinearForm(H)\n",
    "f += SymbolicLFI( f2*v )\n",
    "f.Assemble()\n",
    "\n",
    "gfu = GridFunction(H)\n",
    "# gfu.vec.data = A.mat.Inverse(H.FreeDofs())*f.vec\n",
    "# grad_gfu = grad(gfu)\n",
    "\n",
    "r = f.vec.CreateVector()\n",
    "r.data = f.vec - A.mat * gfu.vec\n",
    "gfu.vec.data += A.mat.Inverse(freedofs=H.FreeDofs()) * r\n",
    "\n",
    "\n",
    "# Compute error\n",
    "err = sqrt (Integrate ( (gfu-exact)*(gfu-exact), mesh))\n",
    "# grad_err = sqrt (Integrate ( (grad_gfu-grad_exact)*(grad_gfu-grad_exact), mesh))\n",
    "print (\"h = \", size, \"L2-error:\", err)\n",
    "\n",
    "\n"
   ]
  },
  {
   "cell_type": "code",
   "execution_count": null,
   "metadata": {},
   "outputs": [],
   "source": [
    "print(gfsol.vec.data)"
   ]
  },
  {
   "cell_type": "code",
   "execution_count": null,
   "metadata": {},
   "outputs": [],
   "source": [
    "print(\"diff u    = \", sqrt(Integrate((gfsol.components[1]-gfu)**2, mesh)) )\n",
    "print(\"diff flux = \", sqrt(Integrate((gfsol.components[0]-grad(gfu))**2, mesh)) )\n"
   ]
  }
 ],
 "metadata": {
  "kernelspec": {
   "display_name": "Python 3",
   "language": "python",
   "name": "python3"
  },
  "language_info": {
   "codemirror_mode": {
    "name": "ipython",
    "version": 3
   },
   "file_extension": ".py",
   "mimetype": "text/x-python",
   "name": "python",
   "nbconvert_exporter": "python",
   "pygments_lexer": "ipython3",
   "version": "3.10.12"
  }
 },
 "nbformat": 4,
 "nbformat_minor": 2
}
