{
 "cells": [
  {
   "cell_type": "markdown",
   "metadata": {},
   "source": [
    "Poisson Equation With Neumann Boundary Conditions\n",
    "==="
   ]
  },
  {
   "cell_type": "markdown",
   "metadata": {},
   "source": [
    "Import Netgen/NGSolve Python modules:"
   ]
  },
  {
   "cell_type": "code",
   "execution_count": 1,
   "metadata": {},
   "outputs": [
    {
     "name": "stdout",
     "output_type": "stream",
     "text": [
      "optfile ./ng.opt does not exist - using default values\n",
      "togl-version : 2\n",
      "OCC module loaded\n",
      "loading ngsolve library\n",
      "NGSolve-6.2.2305\n",
      "Using Lapack\n",
      "Including sparse direct solver UMFPACK\n",
      "Running parallel using 8 thread(s)\n"
     ]
    }
   ],
   "source": [
    "import numpy as np\n",
    "import matplotlib.pyplot as plt\n",
    "from ngsolve import *\n",
    "from netgen.geom2d import unit_square\n",
    "import netgen.gui\n",
    "%gui tk"
   ]
  },
  {
   "cell_type": "markdown",
   "metadata": {},
   "source": [
    "# Problem"
   ]
  },
  {
   "cell_type": "markdown",
   "metadata": {},
   "source": [
    "\\omega = (0,1)^2"
   ]
  },
  {
   "cell_type": "code",
   "execution_count": 2,
   "metadata": {},
   "outputs": [
    {
     "name": "stdout",
     "output_type": "stream",
     "text": [
      " Generate Mesh from spline geometry\n"
     ]
    }
   ],
   "source": [
    "ud = CoefficientFunction(x)\n",
    "g = CoefficientFunction(y)\n",
    "alpha = 5\n",
    "\n",
    "order = 2\n",
    "size = 0.1\n",
    "mesh = Mesh(unit_square.GenerateMesh(maxh=size))\n"
   ]
  },
  {
   "cell_type": "code",
   "execution_count": 3,
   "metadata": {},
   "outputs": [],
   "source": [
    "#Compare with H1\n",
    "H = H1(mesh, order=order, dirichlet=\"right|top|bottom\")\n",
    "u,v = H.TnT()\n",
    "\n",
    "A = BilinearForm(H, symmetric=True)\n",
    "A += SymbolicBFI( grad(u)*grad(v) - (1/alpha)*u*v )\n",
    "A.Assemble()\n",
    "\n",
    "f = LinearForm(H)\n",
    "f += SymbolicLFI( 1*v )\n",
    "f.Assemble()\n",
    "\n",
    "gfu = GridFunction(H)\n",
    "gfu.vec.data = A.mat.Inverse(H.FreeDofs())*f.vec\n",
    "Draw(gfu, mesh, \"sigma\")\n",
    "\n"
   ]
  },
  {
   "cell_type": "code",
   "execution_count": 4,
   "metadata": {},
   "outputs": [],
   "source": [
    "V = HDiv(mesh, order=order, dirichlet=\"left\")\n",
    "Q = L2(mesh, order=order-1)\n",
    "X = FESpace( [V,Q] )\n",
    "(sigma, u), (tau, v) = X.TnT()\n",
    "\n",
    "A = BilinearForm(X, symmetric=True)\n",
    "A += SymbolicBFI( sigma*tau + div(tau)*u + div(sigma)*v - 1/alpha*u*v )\n",
    "A.Assemble()\n",
    "\n",
    "normal = specialcf.normal(mesh.dim)\n",
    "f = LinearForm(X)\n",
    "f += SymbolicLFI( -1*v )\n",
    "f += SymbolicLFI(ud * (tau.Trace()*normal), BND)\n",
    "f.Assemble()\n",
    "\n",
    "gfsol = GridFunction(X)\n",
    "gfsol.vec.data = A.mat.Inverse(X.FreeDofs())*f.vec\n",
    "\n",
    "Draw(gfsol.components[0], mesh, \"sigma\")\n",
    "Draw(gfsol.components[1], mesh, \"u\")\n",
    "\n",
    "\n"
   ]
  },
  {
   "cell_type": "code",
   "execution_count": 5,
   "metadata": {},
   "outputs": [
    {
     "name": "stdout",
     "output_type": "stream",
     "text": [
      "diff u    =  0.6133269405692692\n",
      "diff flux =  0.8546858773855345\n"
     ]
    }
   ],
   "source": [
    "print(\"diff u    = \", sqrt(Integrate((gfsol.components[1]-gfu)**2, mesh)) )\n",
    "print(\"diff flux = \", sqrt(Integrate((gfsol.components[0]-grad(gfu))**2, mesh)) )\n"
   ]
  },
  {
   "cell_type": "code",
   "execution_count": null,
   "metadata": {},
   "outputs": [],
   "source": []
  }
 ],
 "metadata": {
  "kernelspec": {
   "display_name": "Python 3",
   "language": "python",
   "name": "python3"
  },
  "language_info": {
   "codemirror_mode": {
    "name": "ipython",
    "version": 3
   },
   "file_extension": ".py",
   "mimetype": "text/x-python",
   "name": "python",
   "nbconvert_exporter": "python",
   "pygments_lexer": "ipython3",
   "version": "3.10.12"
  }
 },
 "nbformat": 4,
 "nbformat_minor": 2
}
